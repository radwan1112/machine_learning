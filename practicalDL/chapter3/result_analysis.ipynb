{
 "cells": [
  {
   "cell_type": "code",
   "execution_count": null,
   "id": "99c98e48-860f-4c6b-9115-ab84860096e5",
   "metadata": {},
   "outputs": [],
   "source": [
    "import tensorflow as tf\n",
    "import numpy as np\n",
    "from tensorflow.keras.preprocessing.image import ImageDataGenerator\n",
    "from tensorflow.keras.applications.mobilenet import MobileNet, preprocess_input\n",
    "import matplotlib\n",
    "import matplotlib.pyplot as plt\n",
    "import matplotlib.image as mpimg\n",
    "%matplotlib inline"
   ]
  },
  {
   "cell_type": "code",
   "execution_count": null,
   "id": "76278167-cf03-40ac-8a18-de07a8ec64e2",
   "metadata": {},
   "outputs": [],
   "source": [
    "IMG_WIDTH, IMG_HEIGHT = 224, 224\n",
    "VALIDATION_DATA_DIR = 'data/val/'\n",
    "VALIDATION_BATCH_SIZE = 64"
   ]
  },
  {
   "cell_type": "code",
   "execution_count": null,
   "id": "efc7e7e5-b834-4b25-9428-92bcdc1df57a",
   "metadata": {},
   "outputs": [],
   "source": [
    "validation_datagen = ImageDataGenerator(preprocessing_function=preprocess_input)\n",
    "\n",
    "validation_generator = validation_datagen.flow_from_directory(\n",
    "    VALIDATION_DATA_DIR,\n",
    "    target_size=(IMG_WIDTH, IMG_HEIGHT),\n",
    "    batch_size=VALIDATION_BATCH_SIZE,\n",
    "    shuffle=False,\n",
    "    class_mode='categorical')"
   ]
  },
  {
   "cell_type": "code",
   "execution_count": null,
   "id": "469055d9-3f3e-476e-9cfb-7e46f2f49389",
   "metadata": {},
   "outputs": [],
   "source": [
    "from tensorflow.keras.models import load_model\n",
    "from tensorflow.keras.utils import CustomObjectScope\n",
    "from tensorflow.keras.initializers import glorot_uniform\n",
    "\n",
    "with CustomObjectScope(\n",
    "    {'GlorotUniform': glorot_uniform()}):\n",
    "    model = load_model('model.h5')"
   ]
  },
  {
   "cell_type": "code",
   "execution_count": null,
   "id": "79812c8b-6021-46e3-b18a-2b21c1bb473e",
   "metadata": {},
   "outputs": [],
   "source": [
    "# Let's view the names of the files.\n",
    "filenames = validation_generator.filenames\n",
    "print(len(filenames))\n",
    "print(filenames[:10])"
   ]
  },
  {
   "cell_type": "code",
   "execution_count": null,
   "id": "072a5659-4933-455b-a99f-b02eb6700531",
   "metadata": {},
   "outputs": [],
   "source": [
    "ground_truth = validation_generator.classes\n",
    "print(ground_truth[:10])\n",
    "print(len(ground_truth))"
   ]
  },
  {
   "cell_type": "code",
   "execution_count": null,
   "id": "942e7949-edd7-48bc-af55-a8fd9748a950",
   "metadata": {},
   "outputs": [],
   "source": [
    "label_to_index = validation_generator.class_indices\n",
    "print(label_to_index)"
   ]
  },
  {
   "cell_type": "code",
   "execution_count": null,
   "id": "b8f8e95b-0376-4aa5-9ad2-3c20da46370e",
   "metadata": {},
   "outputs": [],
   "source": [
    "index_to_label = dict((v, k) for k, v in label_to_index.items())\n",
    "print(index_to_label)"
   ]
  },
  {
   "cell_type": "code",
   "execution_count": null,
   "id": "3947d1d0-36dc-4ebf-8394-8f79bebf647f",
   "metadata": {},
   "outputs": [],
   "source": [
    "predictions = model.predict(validation_generator,\n",
    "                                      steps=None)"
   ]
  },
  {
   "cell_type": "code",
   "execution_count": null,
   "id": "c9394286-d1a2-4e41-832f-b505eed3fce6",
   "metadata": {},
   "outputs": [],
   "source": [
    "print(predictions[:10])"
   ]
  },
  {
   "cell_type": "code",
   "execution_count": null,
   "id": "4fa03fd7-b719-4393-9885-bfe30a0b81ab",
   "metadata": {},
   "outputs": [],
   "source": [
    "prediction_index = []\n",
    "for prediction in predictions:\n",
    "    prediction_index.append(np.argmax(prediction))"
   ]
  },
  {
   "cell_type": "code",
   "execution_count": null,
   "id": "0735ebaa-d677-4395-85cd-7ec6aed6c336",
   "metadata": {},
   "outputs": [],
   "source": [
    "def accuracy(predictions, ground_truth):\n",
    "    total = 0\n",
    "    for i, j in zip(predictions, ground_truth):\n",
    "        if i == j:\n",
    "            total += 1\n",
    "    return total * 1.0 / len(predictions)"
   ]
  },
  {
   "cell_type": "code",
   "execution_count": null,
   "id": "7720e1a8-f7cf-4ed1-8a0a-0a8985f43fd5",
   "metadata": {},
   "outputs": [],
   "source": [
    "print(accuracy(prediction_index, ground_truth))"
   ]
  },
  {
   "cell_type": "code",
   "execution_count": null,
   "id": "7d0fec9b-826b-4390-be32-b76ddccc7065",
   "metadata": {},
   "outputs": [],
   "source": [
    "prediction_table = {}\n",
    "for index, val in enumerate(predictions):\n",
    "    index_of_highest_probability = np.argmax(val)\n",
    "    value_of_highest_probability = val[index_of_highest_probability]\n",
    "    prediction_table[index] = [\n",
    "        value_of_highest_probability, index_of_highest_probability,\n",
    "        ground_truth[index]\n",
    "    ]\n",
    "assert len(predictions) == len(ground_truth) == len(prediction_table)"
   ]
  },
  {
   "cell_type": "code",
   "execution_count": null,
   "id": "3583d267-3092-4e7e-9e5d-514ad8bcc3dd",
   "metadata": {},
   "outputs": [],
   "source": [
    "def get_images_with_sorted_probabilities(prediction_table,\n",
    "                                         get_highest_probability,\n",
    "                                         label,\n",
    "                                         number_of_items,\n",
    "                                         only_false_predictions=False):\n",
    "    sorted_prediction_table = [(k, prediction_table[k])\n",
    "                               for k in sorted(prediction_table,\n",
    "                                               key=prediction_table.get,\n",
    "                                               reverse=get_highest_probability)\n",
    "                               ]\n",
    "    result = []\n",
    "    for index, key in enumerate(sorted_prediction_table):\n",
    "        image_index, [probability, predicted_index, gt] = key\n",
    "        if predicted_index == label:\n",
    "            if only_false_predictions == True:\n",
    "                if predicted_index != gt:\n",
    "                    result.append(\n",
    "                        [image_index, [probability, predicted_index, gt]])\n",
    "            else:\n",
    "                result.append(\n",
    "                    [image_index, [probability, predicted_index, gt]])\n",
    "    return result[:number_of_items]"
   ]
  },
  {
   "cell_type": "code",
   "execution_count": null,
   "id": "4352e9fc-9cbc-478b-b487-2d79e91a9d5d",
   "metadata": {},
   "outputs": [],
   "source": [
    "def plot_images(filenames, distances, message):\n",
    "    images = []\n",
    "    for filename in filenames:\n",
    "        images.append(mpimg.imread(filename))\n",
    "    plt.figure(figsize=(20, 15))\n",
    "    columns = 5\n",
    "    for i, image in enumerate(images):\n",
    "        ax = plt.subplot(int(len(images) / columns + 1), columns, i + 1)\n",
    "        ax.set_title(\"\\n\\n\" + filenames[i].split(\"/\")[-1] + \"\\n\" +\n",
    "                     \"\\nProbability: \" +\n",
    "                     str(float(\"{0:.2f}\".format(distances[i]))))\n",
    "        plt.suptitle(message, fontsize=20, fontweight='bold')\n",
    "        plt.axis('off')\n",
    "        plt.imshow(image)\n",
    "        \n",
    "def display(sorted_indices, message):\n",
    "    similar_image_paths = []\n",
    "    distances = []\n",
    "    for name, value in sorted_indices:\n",
    "        [probability, predicted_index, gt] = value\n",
    "        similar_image_paths.append(VALIDATION_DATA_DIR + filenames[name])\n",
    "        distances.append(probability)\n",
    "        \n",
    "    plot_images(similar_image_paths, distances, message)"
   ]
  },
  {
   "cell_type": "code",
   "execution_count": null,
   "id": "abf1e69a-bcfb-4735-ba84-1f1427b61685",
   "metadata": {},
   "outputs": [],
   "source": [
    "most_confident_dog_images = get_images_with_sorted_probabilities(prediction_table, True, 1, 10,\n",
    "                                               False)\n",
    "message = 'Images with highest probability of containing dogs'\n",
    "display(most_confident_dog_images[:], message)"
   ]
  },
  {
   "cell_type": "code",
   "execution_count": null,
   "id": "ae0d3fbc-62f0-4298-843f-868900cced4d",
   "metadata": {},
   "outputs": [],
   "source": [
    "least_confident_dog_images = get_images_with_sorted_probabilities(prediction_table, False, 1, 10,\n",
    "                                               False)\n",
    "message = 'Images with lowest probability of containing dogs'\n",
    "display(least_confident_dog_images, message)"
   ]
  },
  {
   "cell_type": "code",
   "execution_count": null,
   "id": "eba290a9-f057-4331-b016-1f44365c2f7c",
   "metadata": {},
   "outputs": [],
   "source": [
    "incorrect_dog_images = get_images_with_sorted_probabilities(prediction_table, True, 1, 10,\n",
    "                                               True)\n",
    "message = 'Images of cats with highest probability of containing dogs'\n",
    "display(incorrect_dog_images, message)"
   ]
  },
  {
   "cell_type": "code",
   "execution_count": null,
   "id": "5cb56fea-969f-4e27-b23e-5405b48a73e9",
   "metadata": {},
   "outputs": [],
   "source": [
    "most_confident_cat_images = get_images_with_sorted_probabilities(prediction_table, True, 0, 10,\n",
    "                                               False)\n",
    "message = 'Images with highest probability of containing cats'\n",
    "display(most_confident_cat_images, message)"
   ]
  },
  {
   "cell_type": "code",
   "execution_count": null,
   "id": "37f23f3e-53d9-4075-82e0-2ccdd94546d5",
   "metadata": {},
   "outputs": [],
   "source": [
    "least_confident_cat_images = get_images_with_sorted_probabilities(prediction_table, False, 0, 10,\n",
    "                                               False)\n",
    "message = 'Images with lowest probability of containing cats'\n",
    "display(least_confident_cat_images, message)"
   ]
  },
  {
   "cell_type": "code",
   "execution_count": null,
   "id": "19cd7be3-05db-4ee9-b0f8-83bc1454501e",
   "metadata": {},
   "outputs": [],
   "source": [
    "incorrect_cat_images = get_images_with_sorted_probabilities(prediction_table, True, 0, 10,\n",
    "                                               True)\n",
    "message = 'Images of dogs with highest probability of containing cats'\n",
    "display(incorrect_cat_images, message)"
   ]
  },
  {
   "cell_type": "code",
   "execution_count": null,
   "id": "78b07b81-5e4a-4cd6-9aeb-f4ce0ea335ac",
   "metadata": {},
   "outputs": [],
   "source": []
  }
 ],
 "metadata": {
  "kernelspec": {
   "display_name": "Python [conda env:.conda-imgclassify]",
   "language": "python",
   "name": "conda-env-.conda-imgclassify-py"
  },
  "language_info": {
   "codemirror_mode": {
    "name": "ipython",
    "version": 3
   },
   "file_extension": ".py",
   "mimetype": "text/x-python",
   "name": "python",
   "nbconvert_exporter": "python",
   "pygments_lexer": "ipython3",
   "version": "3.9.15"
  }
 },
 "nbformat": 4,
 "nbformat_minor": 5
}
